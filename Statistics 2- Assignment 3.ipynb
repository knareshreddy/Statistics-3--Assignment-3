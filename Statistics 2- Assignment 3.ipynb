{
 "cells": [
  {
   "cell_type": "markdown",
   "metadata": {},
   "source": [
    "# Two balls are drawn at random in succession without replacement from an urn containing 4 red balls and 6 black balls. Find the probabilities of all the possible outcomes."
   ]
  },
  {
   "cell_type": "code",
   "execution_count": null,
   "metadata": {},
   "outputs": [],
   "source": [
    "Total balls =10\n",
    "Total Possibility of drawing 2 balls  = 10*9=90\n",
    "Possible Draws:\n",
    "    RR= 4*3=12\n",
    "    RB=4*6=24\n",
    "    BR=6*4=24\n",
    "    BB=6*5=30\n",
    "\n",
    "Probability of drawing two red balls= RR/90= 12/90=0.133\n",
    "Probility of Drawing two Black balls= BB/90=30/90=0.333\n",
    "Probility of red on the second draw= RR+RB/90= 36/90= 0.4\n",
    "Probabilty of drawing black on second draw= BR+BB/90= 54/90=0.6"
   ]
  }
 ],
 "metadata": {
  "kernelspec": {
   "display_name": "Python 3",
   "language": "python",
   "name": "python3"
  },
  "language_info": {
   "codemirror_mode": {
    "name": "ipython",
    "version": 3
   },
   "file_extension": ".py",
   "mimetype": "text/x-python",
   "name": "python",
   "nbconvert_exporter": "python",
   "pygments_lexer": "ipython3",
   "version": "3.6.4"
  }
 },
 "nbformat": 4,
 "nbformat_minor": 2
}
